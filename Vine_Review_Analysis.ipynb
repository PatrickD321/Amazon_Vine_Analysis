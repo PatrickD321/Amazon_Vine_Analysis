{
  "nbformat": 4,
  "nbformat_minor": 0,
  "metadata": {
    "colab": {
      "name": "Vine_Review_Analysis.ipynb",
      "provenance": [],
      "authorship_tag": "ABX9TyPUY/zgWKhXEXctUgUHbXfP",
      "include_colab_link": true
    },
    "kernelspec": {
      "name": "python3",
      "display_name": "Python 3"
    },
    "language_info": {
      "name": "python"
    }
  },
  "cells": [
    {
      "cell_type": "markdown",
      "metadata": {
        "id": "view-in-github",
        "colab_type": "text"
      },
      "source": [
        "<a href=\"https://colab.research.google.com/github/PatrickD321/Amazon_Vine_Analysis/blob/main/Vine_Review_Analysis.ipynb\" target=\"_parent\"><img src=\"https://colab.research.google.com/assets/colab-badge.svg\" alt=\"Open In Colab\"/></a>"
      ]
    },
    {
      "cell_type": "code",
      "metadata": {
        "colab": {
          "base_uri": "https://localhost:8080/"
        },
        "id": "LQaJXsc4ow9M",
        "outputId": "a98253e7-e1ba-4b8b-9529-8e1afe4a59df"
      },
      "source": [
        "import os\n",
        "# Find the latest version of spark 3.0  from http://www-us.apache.org/dist/spark/ and enter as the spark version\n",
        "# For example:\n",
        "# spark_version = 'spark-3.0.2'\n",
        "spark_version = 'spark-3.0.2'\n",
        "os.environ['SPARK_VERSION']=spark_version\n",
        "\n",
        "# Install Spark and Java\n",
        "!apt-get update\n",
        "!apt-get install openjdk-11-jdk-headless -qq > /dev/null\n",
        "!wget -q http://www-us.apache.org/dist/spark/$SPARK_VERSION/$SPARK_VERSION-bin-hadoop2.7.tgz\n",
        "!tar xf $SPARK_VERSION-bin-hadoop2.7.tgz\n",
        "!pip install -q findspark\n",
        "\n",
        "# Set Environment Variables\n",
        "import os\n",
        "os.environ[\"JAVA_HOME\"] = \"/usr/lib/jvm/java-11-openjdk-amd64\"\n",
        "os.environ[\"SPARK_HOME\"] = f\"/content/{spark_version}-bin-hadoop2.7\"\n",
        "\n",
        "# Start a SparkSession\n",
        "import findspark\n",
        "findspark.init()"
      ],
      "execution_count": 1,
      "outputs": [
        {
          "output_type": "stream",
          "text": [
            "\r0% [Working]\r            \rGet:1 http://security.ubuntu.com/ubuntu bionic-security InRelease [88.7 kB]\n",
            "\r0% [Connecting to archive.ubuntu.com (91.189.88.152)] [1 InRelease 0 B/88.7 kB \r0% [Connecting to archive.ubuntu.com (91.189.88.152)] [Waiting for headers] [Co\r                                                                               \rGet:2 https://cloud.r-project.org/bin/linux/ubuntu bionic-cran40/ InRelease [3,626 B]\n",
            "\r0% [Connecting to archive.ubuntu.com (91.189.88.152)] [Connecting to ppa.launch\r0% [1 InRelease gpgv 88.7 kB] [Connecting to archive.ubuntu.com (91.189.88.152)\r                                                                               \rIgn:3 https://developer.download.nvidia.com/compute/cuda/repos/ubuntu1804/x86_64  InRelease\n",
            "\r                                                                               \r0% [1 InRelease gpgv 88.7 kB] [Waiting for headers] [Waiting for headers]\r                                                                         \rHit:4 http://archive.ubuntu.com/ubuntu bionic InRelease\n",
            "Get:5 http://ppa.launchpad.net/c2d4u.team/c2d4u4.0+/ubuntu bionic InRelease [15.9 kB]\n",
            "Ign:6 https://developer.download.nvidia.com/compute/machine-learning/repos/ubuntu1804/x86_64  InRelease\n",
            "Get:7 https://developer.download.nvidia.com/compute/cuda/repos/ubuntu1804/x86_64  Release [697 B]\n",
            "Hit:8 https://developer.download.nvidia.com/compute/machine-learning/repos/ubuntu1804/x86_64  Release\n",
            "Get:9 https://developer.download.nvidia.com/compute/cuda/repos/ubuntu1804/x86_64  Release.gpg [836 B]\n",
            "Get:10 http://archive.ubuntu.com/ubuntu bionic-updates InRelease [88.7 kB]\n",
            "Get:11 http://security.ubuntu.com/ubuntu bionic-security/main amd64 Packages [2,184 kB]\n",
            "Hit:12 http://ppa.launchpad.net/cran/libgit2/ubuntu bionic InRelease\n",
            "Get:13 http://security.ubuntu.com/ubuntu bionic-security/restricted amd64 Packages [450 kB]\n",
            "Get:14 http://security.ubuntu.com/ubuntu bionic-security/universe amd64 Packages [1,414 kB]\n",
            "Get:15 http://archive.ubuntu.com/ubuntu bionic-backports InRelease [74.6 kB]\n",
            "Get:16 http://ppa.launchpad.net/deadsnakes/ppa/ubuntu bionic InRelease [15.9 kB]\n",
            "Hit:17 http://ppa.launchpad.net/graphics-drivers/ppa/ubuntu bionic InRelease\n",
            "Ign:19 https://developer.download.nvidia.com/compute/cuda/repos/ubuntu1804/x86_64  Packages\n",
            "Get:19 https://developer.download.nvidia.com/compute/cuda/repos/ubuntu1804/x86_64  Packages [799 kB]\n",
            "Get:20 http://ppa.launchpad.net/c2d4u.team/c2d4u4.0+/ubuntu bionic/main Sources [1,770 kB]\n",
            "Get:21 http://archive.ubuntu.com/ubuntu bionic-updates/universe amd64 Packages [2,184 kB]\n",
            "Get:22 http://ppa.launchpad.net/c2d4u.team/c2d4u4.0+/ubuntu bionic/main amd64 Packages [906 kB]\n",
            "Get:23 http://archive.ubuntu.com/ubuntu bionic-updates/main amd64 Packages [2,616 kB]\n",
            "Get:24 http://archive.ubuntu.com/ubuntu bionic-updates/multiverse amd64 Packages [33.5 kB]\n",
            "Get:25 http://archive.ubuntu.com/ubuntu bionic-updates/restricted amd64 Packages [480 kB]\n",
            "Get:26 http://ppa.launchpad.net/deadsnakes/ppa/ubuntu bionic/main amd64 Packages [40.9 kB]\n",
            "Fetched 13.2 MB in 3s (4,037 kB/s)\n",
            "Reading package lists... Done\n"
          ],
          "name": "stdout"
        }
      ]
    },
    {
      "cell_type": "code",
      "metadata": {
        "colab": {
          "base_uri": "https://localhost:8080/"
        },
        "id": "ppkIM2i9pBJw",
        "outputId": "7c98ee07-b720-4375-af98-b4da1826f23a"
      },
      "source": [
        "# Download the Postgres driver that will allow Spark to interact with Postgres.\n",
        "!wget https://jdbc.postgresql.org/download/postgresql-42.2.16.jar"
      ],
      "execution_count": 2,
      "outputs": [
        {
          "output_type": "stream",
          "text": [
            "--2021-06-07 22:42:22--  https://jdbc.postgresql.org/download/postgresql-42.2.16.jar\n",
            "Resolving jdbc.postgresql.org (jdbc.postgresql.org)... 72.32.157.228, 2001:4800:3e1:1::228\n",
            "Connecting to jdbc.postgresql.org (jdbc.postgresql.org)|72.32.157.228|:443... connected.\n",
            "HTTP request sent, awaiting response... 200 OK\n",
            "Length: 1002883 (979K) [application/java-archive]\n",
            "Saving to: ‘postgresql-42.2.16.jar’\n",
            "\n",
            "postgresql-42.2.16. 100%[===================>] 979.38K  5.69MB/s    in 0.2s    \n",
            "\n",
            "2021-06-07 22:42:22 (5.69 MB/s) - ‘postgresql-42.2.16.jar’ saved [1002883/1002883]\n",
            "\n"
          ],
          "name": "stdout"
        }
      ]
    },
    {
      "cell_type": "code",
      "metadata": {
        "id": "Sv3ZjDeQpHgh"
      },
      "source": [
        "from pyspark.sql import SparkSession\n",
        "spark = SparkSession.builder.appName(\"BigData-Challenge\").config(\"spark.driver.extraClassPath\",\"/content/postgresql-42.2.16.jar\").getOrCreate()"
      ],
      "execution_count": 4,
      "outputs": []
    },
    {
      "cell_type": "code",
      "metadata": {
        "colab": {
          "base_uri": "https://localhost:8080/"
        },
        "id": "rU4_M0fsplEb",
        "outputId": "4f623cd3-9c0f-4f0a-a7c6-be0b023041ca"
      },
      "source": [
        "from pyspark import SparkFiles\n",
        "url = \"https://s3.amazonaws.com/amazon-reviews-pds/tsv/amazon_reviews_us_Video_DVD_v1_00.tsv.gz\"\n",
        "spark.sparkContext.addFile(url)\n",
        "df = spark.read.option(\"encoding\", \"UTF-8\").csv(SparkFiles.get(\"\"), sep=\"\\t\", header=True, inferSchema=True)\n",
        "df.show()"
      ],
      "execution_count": 5,
      "outputs": [
        {
          "output_type": "stream",
          "text": [
            "+-----------+-----------+--------------+----------+--------------+--------------------+----------------+-----------+-------------+-----------+----+-----------------+--------------------+--------------------+-----------+\n",
            "|marketplace|customer_id|     review_id|product_id|product_parent|       product_title|product_category|star_rating|helpful_votes|total_votes|vine|verified_purchase|     review_headline|         review_body|review_date|\n",
            "+-----------+-----------+--------------+----------+--------------+--------------------+----------------+-----------+-------------+-----------+----+-----------------+--------------------+--------------------+-----------+\n",
            "|         US|   27288431| R33UPQQUZQEM8|B005T4ND06|     400024643|Yoga for Movement...|       Video DVD|          5|            3|          3|   N|                Y|This was a gift f...|This was a gift f...| 2015-08-31|\n",
            "|         US|   13722556|R3IKTNQQPD9662|B004EPZ070|     685335564|  Something Borrowed|       Video DVD|          5|            0|          0|   N|                Y|          Five Stars| Teats my heart out.| 2015-08-31|\n",
            "|         US|   20381037|R3U27V5QMCP27T|B005S9EKCW|     922008804|Les Miserables (2...|       Video DVD|          5|            1|          1|   N|                Y|        Great movie!|        Great movie.| 2015-08-31|\n",
            "|         US|   24852644|R2TOH2QKNK4IOC|B00FC1ZCB4|     326560548|Alien Anthology a...|       Video DVD|          5|            0|          1|   N|                Y|             Amazing|My husband was so...| 2015-08-31|\n",
            "|         US|   15556113|R2XQG5NJ59UFMY|B002ZG98Z0|     637495038|  Sex and the City 2|       Video DVD|          5|            0|          0|   N|                Y|          Five Stars|   Love this series.| 2015-08-31|\n",
            "|         US|    6132474|R1N1KHBRR4ZTX3|B00X8RONBO|     896602391|When Calls The He...|       Video DVD|          5|            0|          0|   N|                Y|          Five Stars|            love it!| 2015-08-31|\n",
            "|         US|   48049524|R3OM9S0TCBP38K|B000CEXFZG|     115883890|Teen Titans - The...|       Video DVD|          5|            0|          0|   N|                Y|               Great|Better than the c...| 2015-08-31|\n",
            "|         US|    3282516|R1W4S949ZRCTBW|B00ID8H8EW|     977932459|      Generation War|       Video DVD|          5|            0|          0|   N|                Y|          Five Stars|I really emjoyed ...| 2015-08-31|\n",
            "|         US|   51771179|R18JL1NNQAZFV2|B000TGJ8IU|     840084782|Troy  (Director's...|       Video DVD|          5|            0|          0|   N|                Y|          Five Stars|Awesome movie, we...| 2015-08-31|\n",
            "|         US|   31816501|R1LP6PR06OPYUX|B00DPMPTDS|     262144920|Faith Aka the Gre...|       Video DVD|          4|            0|          0|   N|                Y|a beautiful fanta...|...a beautiful fa...| 2015-08-31|\n",
            "|         US|   16164990| RZKBT035JA0UQ|B00X797LUS|     883589001|   Revenge: Season 4|       Video DVD|          5|            1|          2|   N|                Y|  It's a hit with me|I don't usually w...| 2015-08-31|\n",
            "|         US|   33386989|R253N5W74SM7N3|B00C6MXB42|     734735137|YOUNG INDIANA JON...|       Video DVD|          4|            1|          1|   N|                Y|great stuff. I th...|great stuff.  I t...| 2015-08-31|\n",
            "|         US|   45486371|R2D5IFTFPHD3RN|B000EZ9084|     821764517|     Survival Island|       Video DVD|          4|            1|          1|   N|                Y|          Four Stars|           very good| 2015-08-31|\n",
            "|         US|   14006420|R1CECK3H1URK1G|B000CEXFZG|     115883890|Teen Titans - The...|       Video DVD|          5|            0|          0|   N|                Y|          Five Stars|Kids love the DVD...| 2015-08-31|\n",
            "|         US|   23411619|R11MHQRE45204T|B00KXEM6XM|     651533797|     Fargo: Season 1|       Video DVD|          5|            0|          0|   N|                Y|A wonderful cover...|Great news Fargo ...| 2015-08-31|\n",
            "|         US|    3202332| RSX9F068J0GXJ|B0036K9CM8|     231498541|Disney Parks: The...|       Video DVD|          5|            0|          0|   N|                Y|We love Disney an...|We love Disney an...| 2015-08-31|\n",
            "|         US|   32012808|R1TUMFHZBBOWKL|B00G3HOJZ6|     847624020|Young Detective D...|       Video DVD|          5|            0|          0|   N|                Y|Excellent Movie f...|This is a surpris...| 2015-08-31|\n",
            "|         US|   36507765| R8IZ1G1TWGK0E|B00V5E7YR2|     478422254|The Divergent Ser...|       Video DVD|          5|            0|          0|   N|                Y|          Five Stars|          Good movie| 2015-08-31|\n",
            "|         US|   13696097|R1CBN0585B7BI4|B005BUA1JY|     700104332|Barney Miller: Th...|       Video DVD|          5|            0|          1|   N|                Y|          Five Stars|This show is a cl...| 2015-08-31|\n",
            "|         US|    2190805|R2PJOAZ9I3D8O8|B00YCY46VO|     710263340|Inside Out (Blu-r...|       Video DVD|          5|            2|          2|   N|                N|An Instant Master...|Inside Out revolv...| 2015-08-31|\n",
            "+-----------+-----------+--------------+----------+--------------+--------------------+----------------+-----------+-------------+-----------+----+-----------------+--------------------+--------------------+-----------+\n",
            "only showing top 20 rows\n",
            "\n"
          ],
          "name": "stdout"
        }
      ]
    },
    {
      "cell_type": "code",
      "metadata": {
        "id": "1J7DpSO7qFjw"
      },
      "source": [
        "from pyspark.sql.functions import to_date\n",
        "# Read in the Review dataset as a DataFrame\n",
        "df = df.toDF('marketplace', 'customer_id', 'review_id', 'product_id', 'product_parent', 'product_title', 'product_category', 'star_rating', 'helpful_votes', 'total_votes', 'vine', 'verified_purchase', 'review_headline', 'review_body', 'review_date')"
      ],
      "execution_count": 6,
      "outputs": []
    },
    {
      "cell_type": "code",
      "metadata": {
        "colab": {
          "base_uri": "https://localhost:8080/"
        },
        "id": "oFbYYmjCqPzq",
        "outputId": "6268cc97-e3ac-4317-8ee5-03488f205129"
      },
      "source": [
        "# Create the vine_table. DataFrame\n",
        "vine_df = df.select([\"review_id\",\"star_rating\",\"helpful_votes\",\"total_votes\",\"vine\",\"verified_purchase\"])\n",
        "vine_df.show()"
      ],
      "execution_count": 7,
      "outputs": [
        {
          "output_type": "stream",
          "text": [
            "+--------------+-----------+-------------+-----------+----+-----------------+\n",
            "|     review_id|star_rating|helpful_votes|total_votes|vine|verified_purchase|\n",
            "+--------------+-----------+-------------+-----------+----+-----------------+\n",
            "| R33UPQQUZQEM8|          5|            3|          3|   N|                Y|\n",
            "|R3IKTNQQPD9662|          5|            0|          0|   N|                Y|\n",
            "|R3U27V5QMCP27T|          5|            1|          1|   N|                Y|\n",
            "|R2TOH2QKNK4IOC|          5|            0|          1|   N|                Y|\n",
            "|R2XQG5NJ59UFMY|          5|            0|          0|   N|                Y|\n",
            "|R1N1KHBRR4ZTX3|          5|            0|          0|   N|                Y|\n",
            "|R3OM9S0TCBP38K|          5|            0|          0|   N|                Y|\n",
            "|R1W4S949ZRCTBW|          5|            0|          0|   N|                Y|\n",
            "|R18JL1NNQAZFV2|          5|            0|          0|   N|                Y|\n",
            "|R1LP6PR06OPYUX|          4|            0|          0|   N|                Y|\n",
            "| RZKBT035JA0UQ|          5|            1|          2|   N|                Y|\n",
            "|R253N5W74SM7N3|          4|            1|          1|   N|                Y|\n",
            "|R2D5IFTFPHD3RN|          4|            1|          1|   N|                Y|\n",
            "|R1CECK3H1URK1G|          5|            0|          0|   N|                Y|\n",
            "|R11MHQRE45204T|          5|            0|          0|   N|                Y|\n",
            "| RSX9F068J0GXJ|          5|            0|          0|   N|                Y|\n",
            "|R1TUMFHZBBOWKL|          5|            0|          0|   N|                Y|\n",
            "| R8IZ1G1TWGK0E|          5|            0|          0|   N|                Y|\n",
            "|R1CBN0585B7BI4|          5|            0|          1|   N|                Y|\n",
            "|R2PJOAZ9I3D8O8|          5|            2|          2|   N|                N|\n",
            "+--------------+-----------+-------------+-----------+----+-----------------+\n",
            "only showing top 20 rows\n",
            "\n"
          ],
          "name": "stdout"
        }
      ]
    },
    {
      "cell_type": "code",
      "metadata": {
        "colab": {
          "base_uri": "https://localhost:8080/"
        },
        "id": "Bj6ToAWbruoS",
        "outputId": "1c81c28d-d9ef-407c-a56a-d4f8d2a04e91"
      },
      "source": [
        "# Filter table for total_votes > 20\n",
        "vine_filter_df = vine_df.filter(\"total_votes>20\").select([\"review_id\", \"star_rating\", \"helpful_votes\", \"total_votes\", \"vine\",\"verified_purchase\"])\n",
        "vine_filter_df.show()"
      ],
      "execution_count": 14,
      "outputs": [
        {
          "output_type": "stream",
          "text": [
            "+--------------+-----------+-------------+-----------+----+-----------------+\n",
            "|     review_id|star_rating|helpful_votes|total_votes|vine|verified_purchase|\n",
            "+--------------+-----------+-------------+-----------+----+-----------------+\n",
            "|R31EUR60FV3BU5|          4|           32|         39|   N|                N|\n",
            "|R12Q1NO1HI9PP4|          1|            4|         86|   N|                N|\n",
            "|R3MDX24QDAT0OW|          4|           35|         37|   N|                N|\n",
            "|R2YVFZB4ESDT7D|          5|          139|        141|   N|                Y|\n",
            "| R6TNONSNFM82I|          1|            0|         28|   N|                Y|\n",
            "|R2R8EWH1JUZCSI|          5|           16|         21|   N|                N|\n",
            "| RUNB838XKMB59|          1|            8|         23|   N|                N|\n",
            "|R3I8GORXGEJL3R|          4|           95|        103|   N|                Y|\n",
            "|R2WFUSIPJ3X0FR|          1|            9|         53|   N|                N|\n",
            "| RONWXF0J85CRR|          5|           42|         50|   N|                N|\n",
            "|R15OUJIUGMTNW7|          1|            1|         33|   N|                N|\n",
            "| RGWTSZJT5WJ35|          1|            9|         50|   N|                N|\n",
            "|R3O7T74HRIXBE5|          5|           53|         55|   N|                Y|\n",
            "| RSU37FK0W4DPE|          4|           26|         28|   N|                N|\n",
            "|R22H100N6EUD0Y|          5|           30|         32|   N|                Y|\n",
            "| R4VC9LDQGIE5K|          5|           26|         37|   N|                N|\n",
            "| RWMH3PU2EECVA|          5|           35|         38|   N|                Y|\n",
            "|R2XTQWXL65VPOZ|          4|           22|         24|   N|                N|\n",
            "| RGIM9S035SVIA|          4|           38|         44|   N|                N|\n",
            "|R1THITSK5YF2H3|          1|            0|         33|   N|                Y|\n",
            "+--------------+-----------+-------------+-----------+----+-----------------+\n",
            "only showing top 20 rows\n",
            "\n"
          ],
          "name": "stdout"
        }
      ]
    },
    {
      "cell_type": "code",
      "metadata": {
        "colab": {
          "base_uri": "https://localhost:8080/"
        },
        "id": "gFCEMw2VvX-9",
        "outputId": "2d7fd02a-4f4b-47b3-d5ea-4f76be4abf98"
      },
      "source": [
        "# Ratio of helpful_votes to total_votes\n",
        "vine = vine_filter_df.withColumn(\"ratio\",  (vine_filter_df[\"helpful_votes\"] / vine_filter_df[\"total_votes\"]))\n",
        "vine.show()"
      ],
      "execution_count": 48,
      "outputs": [
        {
          "output_type": "stream",
          "text": [
            "+--------------+-----------+-------------+-----------+----+-----------------+--------------------+\n",
            "|     review_id|star_rating|helpful_votes|total_votes|vine|verified_purchase|               ratio|\n",
            "+--------------+-----------+-------------+-----------+----+-----------------+--------------------+\n",
            "|R31EUR60FV3BU5|          4|           32|         39|   N|                N|  0.8205128205128205|\n",
            "|R12Q1NO1HI9PP4|          1|            4|         86|   N|                N|0.046511627906976744|\n",
            "|R3MDX24QDAT0OW|          4|           35|         37|   N|                N|  0.9459459459459459|\n",
            "|R2YVFZB4ESDT7D|          5|          139|        141|   N|                Y|  0.9858156028368794|\n",
            "| R6TNONSNFM82I|          1|            0|         28|   N|                Y|                 0.0|\n",
            "|R2R8EWH1JUZCSI|          5|           16|         21|   N|                N|  0.7619047619047619|\n",
            "| RUNB838XKMB59|          1|            8|         23|   N|                N| 0.34782608695652173|\n",
            "|R3I8GORXGEJL3R|          4|           95|        103|   N|                Y|  0.9223300970873787|\n",
            "|R2WFUSIPJ3X0FR|          1|            9|         53|   N|                N| 0.16981132075471697|\n",
            "| RONWXF0J85CRR|          5|           42|         50|   N|                N|                0.84|\n",
            "|R15OUJIUGMTNW7|          1|            1|         33|   N|                N|0.030303030303030304|\n",
            "| RGWTSZJT5WJ35|          1|            9|         50|   N|                N|                0.18|\n",
            "|R3O7T74HRIXBE5|          5|           53|         55|   N|                Y|  0.9636363636363636|\n",
            "| RSU37FK0W4DPE|          4|           26|         28|   N|                N|  0.9285714285714286|\n",
            "|R22H100N6EUD0Y|          5|           30|         32|   N|                Y|              0.9375|\n",
            "| R4VC9LDQGIE5K|          5|           26|         37|   N|                N|  0.7027027027027027|\n",
            "| RWMH3PU2EECVA|          5|           35|         38|   N|                Y|  0.9210526315789473|\n",
            "|R2XTQWXL65VPOZ|          4|           22|         24|   N|                N|  0.9166666666666666|\n",
            "| RGIM9S035SVIA|          4|           38|         44|   N|                N|  0.8636363636363636|\n",
            "|R1THITSK5YF2H3|          1|            0|         33|   N|                Y|                 0.0|\n",
            "+--------------+-----------+-------------+-----------+----+-----------------+--------------------+\n",
            "only showing top 20 rows\n",
            "\n"
          ],
          "name": "stdout"
        }
      ]
    },
    {
      "cell_type": "code",
      "metadata": {
        "id": "JDVH80iWAZYK"
      },
      "source": [
        ""
      ],
      "execution_count": null,
      "outputs": []
    },
    {
      "cell_type": "code",
      "metadata": {
        "colab": {
          "base_uri": "https://localhost:8080/"
        },
        "id": "-qfsYaU16iam",
        "outputId": "12101fb9-f672-4396-a928-e144b7bd4e7c"
      },
      "source": [
        "# Filter for ratio greater than 50%\n",
        "vine_ratio = vine.filter(\"ratio >.5\").select([\"review_id\", \"star_rating\", \"helpful_votes\", \"total_votes\", \"vine\",\"verified_purchase\", \"ratio\"])\n",
        "vine_ratio.show()"
      ],
      "execution_count": 50,
      "outputs": [
        {
          "output_type": "stream",
          "text": [
            "+--------------+-----------+-------------+-----------+----+-----------------+------------------+\n",
            "|     review_id|star_rating|helpful_votes|total_votes|vine|verified_purchase|             ratio|\n",
            "+--------------+-----------+-------------+-----------+----+-----------------+------------------+\n",
            "|R31EUR60FV3BU5|          4|           32|         39|   N|                N|0.8205128205128205|\n",
            "|R3MDX24QDAT0OW|          4|           35|         37|   N|                N|0.9459459459459459|\n",
            "|R2YVFZB4ESDT7D|          5|          139|        141|   N|                Y|0.9858156028368794|\n",
            "|R2R8EWH1JUZCSI|          5|           16|         21|   N|                N|0.7619047619047619|\n",
            "|R3I8GORXGEJL3R|          4|           95|        103|   N|                Y|0.9223300970873787|\n",
            "| RONWXF0J85CRR|          5|           42|         50|   N|                N|              0.84|\n",
            "|R3O7T74HRIXBE5|          5|           53|         55|   N|                Y|0.9636363636363636|\n",
            "| RSU37FK0W4DPE|          4|           26|         28|   N|                N|0.9285714285714286|\n",
            "|R22H100N6EUD0Y|          5|           30|         32|   N|                Y|            0.9375|\n",
            "| R4VC9LDQGIE5K|          5|           26|         37|   N|                N|0.7027027027027027|\n",
            "| RWMH3PU2EECVA|          5|           35|         38|   N|                Y|0.9210526315789473|\n",
            "|R2XTQWXL65VPOZ|          4|           22|         24|   N|                N|0.9166666666666666|\n",
            "| RGIM9S035SVIA|          4|           38|         44|   N|                N|0.8636363636363636|\n",
            "|R2FK3TE1JD2UXM|          5|           40|         44|   N|                N|0.9090909090909091|\n",
            "|R22X6BZQKZA30V|          1|           29|         34|   N|                Y|0.8529411764705882|\n",
            "| RS3V339OCGT2D|          5|           84|         97|   N|                N| 0.865979381443299|\n",
            "| RCZ5IXAQ4J4NQ|          5|           22|         36|   N|                N|0.6111111111111112|\n",
            "| ROS0GMA6IUSCP|          5|           34|         36|   N|                N|0.9444444444444444|\n",
            "| RX9NDN8O3M65O|          5|           24|         27|   N|                Y|0.8888888888888888|\n",
            "| RDF3IYVIK2P1C|          4|           29|         32|   N|                N|           0.90625|\n",
            "+--------------+-----------+-------------+-----------+----+-----------------+------------------+\n",
            "only showing top 20 rows\n",
            "\n"
          ],
          "name": "stdout"
        }
      ]
    },
    {
      "cell_type": "code",
      "metadata": {
        "colab": {
          "base_uri": "https://localhost:8080/"
        },
        "id": "DHlJ4Aj3AvZu",
        "outputId": "06d92786-840d-4a95-fc9f-31802241e7dd"
      },
      "source": [
        "# Filter ratio with vine paid votes\n",
        "vine_Y = vine_ratio.filter(vine_ratio.vine == \"Y\")\n",
        "vine_Y.show()"
      ],
      "execution_count": 56,
      "outputs": [
        {
          "output_type": "stream",
          "text": [
            "+--------------+-----------+-------------+-----------+----+-----------------+------------------+\n",
            "|     review_id|star_rating|helpful_votes|total_votes|vine|verified_purchase|             ratio|\n",
            "+--------------+-----------+-------------+-----------+----+-----------------+------------------+\n",
            "|R3PBQ665MBL8CP|          3|           66|         72|   Y|                N|0.9166666666666666|\n",
            "|R3EMD30K7MNOZ0|          2|           20|         25|   Y|                N|               0.8|\n",
            "|R2GF3ZLO2B0Y71|          5|          236|        243|   Y|                N|0.9711934156378601|\n",
            "|R1KAQEESF0NUGV|          4|           27|         29|   Y|                N|0.9310344827586207|\n",
            "|R1621B9AMVWI25|          2|           27|         29|   Y|                N|0.9310344827586207|\n",
            "|R3FVGQVNBAZL8E|          3|           37|         44|   Y|                N|0.8409090909090909|\n",
            "|R26ATTA765WHVX|          5|           21|         23|   Y|                N|0.9130434782608695|\n",
            "| RMZYPFKES1ZK7|          4|           29|         33|   Y|                N|0.8787878787878788|\n",
            "|R14DF0WKENBB1W|          4|           18|         21|   Y|                N|0.8571428571428571|\n",
            "| RP8XXEUSRVK9W|          3|           18|         22|   Y|                N|0.8181818181818182|\n",
            "|R385PHNA6E3GNZ|          5|           32|         43|   Y|                Y|0.7441860465116279|\n",
            "|R3EF1FW33JGPV0|          1|           24|         30|   Y|                N|               0.8|\n",
            "|R1QFLL874C1LYW|          1|           15|         27|   Y|                N|0.5555555555555556|\n",
            "|R3K1A9MD4PVRH4|          2|           26|         37|   Y|                N|0.7027027027027027|\n",
            "| RL6DMOWQJ56DX|          3|           19|         27|   Y|                N|0.7037037037037037|\n",
            "|R2WDJTCP0CO4OF|          4|           26|         28|   Y|                N|0.9285714285714286|\n",
            "| R9XFFVNYHTDOC|          3|          355|        404|   Y|                N|0.8787128712871287|\n",
            "| RULANV8XV91MR|          4|           25|         30|   Y|                N|0.8333333333333334|\n",
            "|R2YT7QUIR9VQ49|          4|           35|         38|   Y|                N|0.9210526315789473|\n",
            "| R9PY1FWPZ7CFJ|          2|           13|         22|   Y|                N|0.5909090909090909|\n",
            "+--------------+-----------+-------------+-----------+----+-----------------+------------------+\n",
            "only showing top 20 rows\n",
            "\n"
          ],
          "name": "stdout"
        }
      ]
    },
    {
      "cell_type": "code",
      "metadata": {
        "colab": {
          "base_uri": "https://localhost:8080/"
        },
        "id": "tdThsrenEdkm",
        "outputId": "d9ec6585-7dd0-47bc-b807-4a1fdefc1f9b"
      },
      "source": [
        "# Filter for vine votes not paid\n",
        "vine_N = vine_ratio.filter(vine_ratio.vine == \"N\")\n",
        "vine_N.show()"
      ],
      "execution_count": 57,
      "outputs": [
        {
          "output_type": "stream",
          "text": [
            "+--------------+-----------+-------------+-----------+----+-----------------+------------------+\n",
            "|     review_id|star_rating|helpful_votes|total_votes|vine|verified_purchase|             ratio|\n",
            "+--------------+-----------+-------------+-----------+----+-----------------+------------------+\n",
            "|R31EUR60FV3BU5|          4|           32|         39|   N|                N|0.8205128205128205|\n",
            "|R3MDX24QDAT0OW|          4|           35|         37|   N|                N|0.9459459459459459|\n",
            "|R2YVFZB4ESDT7D|          5|          139|        141|   N|                Y|0.9858156028368794|\n",
            "|R2R8EWH1JUZCSI|          5|           16|         21|   N|                N|0.7619047619047619|\n",
            "|R3I8GORXGEJL3R|          4|           95|        103|   N|                Y|0.9223300970873787|\n",
            "| RONWXF0J85CRR|          5|           42|         50|   N|                N|              0.84|\n",
            "|R3O7T74HRIXBE5|          5|           53|         55|   N|                Y|0.9636363636363636|\n",
            "| RSU37FK0W4DPE|          4|           26|         28|   N|                N|0.9285714285714286|\n",
            "|R22H100N6EUD0Y|          5|           30|         32|   N|                Y|            0.9375|\n",
            "| R4VC9LDQGIE5K|          5|           26|         37|   N|                N|0.7027027027027027|\n",
            "| RWMH3PU2EECVA|          5|           35|         38|   N|                Y|0.9210526315789473|\n",
            "|R2XTQWXL65VPOZ|          4|           22|         24|   N|                N|0.9166666666666666|\n",
            "| RGIM9S035SVIA|          4|           38|         44|   N|                N|0.8636363636363636|\n",
            "|R2FK3TE1JD2UXM|          5|           40|         44|   N|                N|0.9090909090909091|\n",
            "|R22X6BZQKZA30V|          1|           29|         34|   N|                Y|0.8529411764705882|\n",
            "| RS3V339OCGT2D|          5|           84|         97|   N|                N| 0.865979381443299|\n",
            "| RCZ5IXAQ4J4NQ|          5|           22|         36|   N|                N|0.6111111111111112|\n",
            "| ROS0GMA6IUSCP|          5|           34|         36|   N|                N|0.9444444444444444|\n",
            "| RX9NDN8O3M65O|          5|           24|         27|   N|                Y|0.8888888888888888|\n",
            "| RDF3IYVIK2P1C|          4|           29|         32|   N|                N|           0.90625|\n",
            "+--------------+-----------+-------------+-----------+----+-----------------+------------------+\n",
            "only showing top 20 rows\n",
            "\n"
          ],
          "name": "stdout"
        }
      ]
    },
    {
      "cell_type": "code",
      "metadata": {
        "colab": {
          "base_uri": "https://localhost:8080/"
        },
        "id": "OG9xjzMTFFEM",
        "outputId": "7c4cca55-a046-4be5-e74f-303c3c1bda79"
      },
      "source": [
        "# 5 star rating count\n",
        "vine_5star = vine_df.filter(vine_df.star_rating == 5)\n",
        "vine_5star.count()"
      ],
      "execution_count": 60,
      "outputs": [
        {
          "output_type": "execute_result",
          "data": {
            "text/plain": [
              "3329984"
            ]
          },
          "metadata": {
            "tags": []
          },
          "execution_count": 60
        }
      ]
    },
    {
      "cell_type": "code",
      "metadata": {
        "colab": {
          "base_uri": "https://localhost:8080/"
        },
        "id": "OuxCRTloHEfI",
        "outputId": "fb1a3171-55d2-4067-e185-8fa970a1814b"
      },
      "source": [
        "# 5 star_rating with paid votes (Y)\n",
        "vine_5starY = vine_Y.filter(vine_Y.star_rating == 5)\n",
        "vine_5starY.count()"
      ],
      "execution_count": 62,
      "outputs": [
        {
          "output_type": "execute_result",
          "data": {
            "text/plain": [
              "8"
            ]
          },
          "metadata": {
            "tags": []
          },
          "execution_count": 62
        }
      ]
    },
    {
      "cell_type": "code",
      "metadata": {
        "colab": {
          "base_uri": "https://localhost:8080/"
        },
        "id": "IaPrLYBbISpD",
        "outputId": "99f0c8d4-d358-41de-c75c-3a8744afb170"
      },
      "source": [
        "# 5 star rating with unpaid vote (N)\n",
        "vine_5starN = vine_N.filter(vine_N.star_rating == 5)\n",
        "vine_5starN.count()"
      ],
      "execution_count": 64,
      "outputs": [
        {
          "output_type": "execute_result",
          "data": {
            "text/plain": [
              "73039"
            ]
          },
          "metadata": {
            "tags": []
          },
          "execution_count": 64
        }
      ]
    },
    {
      "cell_type": "code",
      "metadata": {
        "colab": {
          "base_uri": "https://localhost:8080/"
        },
        "id": "daFcYO0xJJyT",
        "outputId": "2b527f35-eda0-459e-f8a2-f4076529f933"
      },
      "source": [
        "# Percentage of 5 star rating paid votes\n",
        "reviews_Y_percent = (vine_5starY.count() / vine_5star.count())*100\n",
        "print(reviews_Y_percent)"
      ],
      "execution_count": 67,
      "outputs": [
        {
          "output_type": "stream",
          "text": [
            "0.0002402413945532471\n"
          ],
          "name": "stdout"
        }
      ]
    },
    {
      "cell_type": "code",
      "metadata": {
        "colab": {
          "base_uri": "https://localhost:8080/"
        },
        "id": "hxB2sEA6KDOY",
        "outputId": "d7cf7c9e-155c-4717-99a8-2b77f2df4977"
      },
      "source": [
        "# Percentage of 5 star rating unpaid votes\n",
        "reviews_N_percent = (vine_5starN.count() / vine_5star.count())*100\n",
        "print(reviews_N_percent)"
      ],
      "execution_count": 68,
      "outputs": [
        {
          "output_type": "stream",
          "text": [
            "2.193373902096827\n"
          ],
          "name": "stdout"
        }
      ]
    }
  ]
}